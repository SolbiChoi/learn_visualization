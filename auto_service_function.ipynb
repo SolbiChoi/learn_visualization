{
  "nbformat": 4,
  "nbformat_minor": 0,
  "metadata": {
    "colab": {
      "name": "auto_xgboost_service.ipynb",
      "provenance": [],
      "collapsed_sections": [],
      "authorship_tag": "ABX9TyMZKdZ8lXRHTCTeV+C3IF+G",
      "include_colab_link": true
    },
    "kernelspec": {
      "name": "python3",
      "display_name": "Python 3"
    },
    "language_info": {
      "name": "python"
    }
  },
  "cells": [
    {
      "cell_type": "markdown",
      "metadata": {
        "id": "view-in-github",
        "colab_type": "text"
      },
      "source": [
        "<a href=\"https://colab.research.google.com/github/SolbiChoi/learn_visualization/blob/master/auto_service_function.ipynb\" target=\"_parent\"><img src=\"https://colab.research.google.com/assets/colab-badge.svg\" alt=\"Open In Colab\"/></a>"
      ]
    },
    {
      "cell_type": "code",
      "metadata": {
        "colab": {
          "base_uri": "https://localhost:8080/"
        },
        "id": "BnVRndE5mFI2",
        "outputId": "f1c13834-bb09-4cc0-f7ca-10fd227422c3"
      },
      "source": [
        "!ls -l ./autompg_lr.pkl"
      ],
      "execution_count": 1,
      "outputs": [
        {
          "output_type": "stream",
          "text": [
            "-rw-r--r-- 1 root root 567 Jul  7 04:29 ./autompg_lr.pkl\n"
          ],
          "name": "stdout"
        }
      ]
    },
    {
      "cell_type": "markdown",
      "metadata": {
        "id": "l82XxY_knWJP"
      },
      "source": [
        "# load pickle with xgboost and scaler"
      ]
    },
    {
      "cell_type": "code",
      "metadata": {
        "colab": {
          "base_uri": "https://localhost:8080/"
        },
        "id": "cO27txg5m5T2",
        "outputId": "fa5e00d3-90dc-4e6d-a4fb-73d214327a49"
      },
      "source": [
        "import pickle\n",
        "model = pickle.load(open('./xgb_model.pkl','rb'))\n",
        "type(model)"
      ],
      "execution_count": 2,
      "outputs": [
        {
          "output_type": "stream",
          "text": [
            "[04:44:23] WARNING: /workspace/src/objective/regression_obj.cu:152: reg:linear is now deprecated in favor of reg:squarederror.\n"
          ],
          "name": "stdout"
        },
        {
          "output_type": "execute_result",
          "data": {
            "text/plain": [
              "xgboost.sklearn.XGBRegressor"
            ]
          },
          "metadata": {
            "tags": []
          },
          "execution_count": 2
        }
      ]
    },
    {
      "cell_type": "code",
      "metadata": {
        "colab": {
          "base_uri": "https://localhost:8080/"
        },
        "id": "0j4LFVTSnRxP",
        "outputId": "85c6b499-af23-42d4-83ef-3d711d92b49f"
      },
      "source": [
        "scaler = pickle.load(open('./scaler_xgb.pkl','rb'))\n",
        "type(scaler)"
      ],
      "execution_count": 3,
      "outputs": [
        {
          "output_type": "execute_result",
          "data": {
            "text/plain": [
              "sklearn.preprocessing._data.StandardScaler"
            ]
          },
          "metadata": {
            "tags": []
          },
          "execution_count": 3
        }
      ]
    },
    {
      "cell_type": "markdown",
      "metadata": {
        "id": "GOuqQ7vS_9pO"
      },
      "source": [
        "# Predict with Linear Regression"
      ]
    },
    {
      "cell_type": "code",
      "metadata": {
        "id": "8Us-bE0GLQ3W"
      },
      "source": [
        "import numpy as np"
      ],
      "execution_count": 4,
      "outputs": []
    },
    {
      "cell_type": "code",
      "metadata": {
        "id": "yunrsmrpuL1c"
      },
      "source": [
        "displacement = 307.0\n",
        "horsepower = 130.0\n",
        "weight = 3504.0\n",
        "accle = 12.0\n",
        "cylinders = 8\n",
        "origin = 1\n",
        "\n",
        "def onehotcylinder(cylinders):\n",
        "  if cylinders == 3:\n",
        "    cylinder = np.array([1,0,0,0,0])\n",
        "  elif cylinders == 4:\n",
        "    cylinder = np.array([0,1,0,0,0])\n",
        "  elif cylinders == 5:\n",
        "    cylinder = np.array([0,1,0,0,0])\n",
        "  elif cylinders == 6:\n",
        "    cylinder = np.array([0,0,1,0,0])\n",
        "  else:\n",
        "    cylinder = np.array([0,0,0,1,0])\n",
        "  return cylinder\n",
        "\n",
        "def onehotorigin(origin):\n",
        "  if origin == 1:\n",
        "    org = np.array([1,0,0])\n",
        "  elif origin == 2:\n",
        "    org = np.array([0,1,0])\n",
        "  else:\n",
        "    org = np.array([0,0,1])\n",
        "  return org\n",
        "\n",
        "x_continuous = np.array([displacement,horsepower,weight,accle])\n",
        "cylinder = onehotcylinder(cylinders)\n",
        "org = onehotorigin(origin)\n",
        "result = np.concatenate((x_continuous, cylinder, org), axis=None)"
      ],
      "execution_count": 5,
      "outputs": []
    },
    {
      "cell_type": "code",
      "metadata": {
        "id": "qZKkpMdOLmo3"
      },
      "source": [
        "result = result.reshape(-1, result.size)"
      ],
      "execution_count": 6,
      "outputs": []
    },
    {
      "cell_type": "code",
      "metadata": {
        "colab": {
          "base_uri": "https://localhost:8080/"
        },
        "id": "dibVuQGNLdki",
        "outputId": "8b7a38dc-e4ea-4d40-92d1-8bcde4f98551"
      },
      "source": [
        "result, result.shape"
      ],
      "execution_count": 7,
      "outputs": [
        {
          "output_type": "execute_result",
          "data": {
            "text/plain": [
              "(array([[3.070e+02, 1.300e+02, 3.504e+03, 1.200e+01, 0.000e+00, 0.000e+00,\n",
              "         0.000e+00, 1.000e+00, 0.000e+00, 1.000e+00, 0.000e+00, 0.000e+00]]),\n",
              " (1, 12))"
            ]
          },
          "metadata": {
            "tags": []
          },
          "execution_count": 7
        }
      ]
    },
    {
      "cell_type": "code",
      "metadata": {
        "id": "iVNqaRKXNLFL"
      },
      "source": [
        "result =  scaler.transform(result)"
      ],
      "execution_count": 8,
      "outputs": []
    },
    {
      "cell_type": "code",
      "metadata": {
        "id": "L9XG11VyClm-",
        "colab": {
          "base_uri": "https://localhost:8080/"
        },
        "outputId": "46e3a87f-5c37-4e76-e53a-226c40bc6e7c"
      },
      "source": [
        "pred = model.predict(result)\n",
        "pred"
      ],
      "execution_count": 12,
      "outputs": [
        {
          "output_type": "execute_result",
          "data": {
            "text/plain": [
              "array([12.646582], dtype=float32)"
            ]
          },
          "metadata": {
            "tags": []
          },
          "execution_count": 12
        }
      ]
    },
    {
      "cell_type": "code",
      "metadata": {
        "id": "OC07Hyw7QiCl"
      },
      "source": [
        ""
      ],
      "execution_count": 9,
      "outputs": []
    }
  ]
}