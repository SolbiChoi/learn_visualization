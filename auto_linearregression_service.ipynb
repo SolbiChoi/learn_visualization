{
  "nbformat": 4,
  "nbformat_minor": 0,
  "metadata": {
    "colab": {
      "name": "auto_linearregression_service.ipynb",
      "provenance": [],
      "authorship_tag": "ABX9TyO/0dkwvy+/1Z/uqCJQa0B0",
      "include_colab_link": true
    },
    "kernelspec": {
      "name": "python3",
      "display_name": "Python 3"
    },
    "language_info": {
      "name": "python"
    }
  },
  "cells": [
    {
      "cell_type": "markdown",
      "metadata": {
        "id": "view-in-github",
        "colab_type": "text"
      },
      "source": [
        "<a href=\"https://colab.research.google.com/github/SolbiChoi/learn_visualization/blob/master/auto_linearregression_service.ipynb\" target=\"_parent\"><img src=\"https://colab.research.google.com/assets/colab-badge.svg\" alt=\"Open In Colab\"/></a>"
      ]
    },
    {
      "cell_type": "code",
      "metadata": {
        "colab": {
          "base_uri": "https://localhost:8080/"
        },
        "id": "BnVRndE5mFI2",
        "outputId": "7d15a00f-0a88-4a2b-9b4c-331eed73057f"
      },
      "source": [
        "!ls -l ./autompg_lr.pkl"
      ],
      "execution_count": 1,
      "outputs": [
        {
          "output_type": "stream",
          "text": [
            "-rw-r--r-- 1 root root 567 Jul  6 02:17 ./autompg_lr.pkl\n"
          ],
          "name": "stdout"
        }
      ]
    },
    {
      "cell_type": "markdown",
      "metadata": {
        "id": "l82XxY_knWJP"
      },
      "source": [
        "# load pickle with linear regression"
      ]
    },
    {
      "cell_type": "code",
      "metadata": {
        "colab": {
          "base_uri": "https://localhost:8080/"
        },
        "id": "cO27txg5m5T2",
        "outputId": "fc1d0bfd-49b2-4cf3-c4de-d71a6343418b"
      },
      "source": [
        "import pickle\n",
        "lr = pickle.load(open('./autompg_lr.pkl','rb'))\n",
        "type(lr)"
      ],
      "execution_count": 3,
      "outputs": [
        {
          "output_type": "execute_result",
          "data": {
            "text/plain": [
              "sklearn.linear_model._base.LinearRegression"
            ]
          },
          "metadata": {
            "tags": []
          },
          "execution_count": 3
        }
      ]
    },
    {
      "cell_type": "code",
      "metadata": {
        "colab": {
          "base_uri": "https://localhost:8080/"
        },
        "id": "0j4LFVTSnRxP",
        "outputId": "f2f3dce8-b448-49ce-aacb-b8e6181f3d70"
      },
      "source": [
        "scaler = pickle.load(open('./autompg_standardscaler.pkl','rb'))\n",
        "type(scaler)"
      ],
      "execution_count": 7,
      "outputs": [
        {
          "output_type": "execute_result",
          "data": {
            "text/plain": [
              "sklearn.preprocessing._data.StandardScaler"
            ]
          },
          "metadata": {
            "tags": []
          },
          "execution_count": 7
        }
      ]
    },
    {
      "cell_type": "code",
      "metadata": {
        "id": "yunrsmrpuL1c"
      },
      "source": [
        ""
      ],
      "execution_count": null,
      "outputs": []
    }
  ]
}