{
  "nbformat": 4,
  "nbformat_minor": 0,
  "metadata": {
    "colab": {
      "name": "auto_linearregression_service.ipynb",
      "provenance": [],
      "collapsed_sections": [],
      "authorship_tag": "ABX9TyMn0RTcSGTgbNQ3ZXR6hGYB"
    },
    "kernelspec": {
      "name": "python3",
      "display_name": "Python 3"
    },
    "language_info": {
      "name": "python"
    }
  },
  "cells": [
    {
      "cell_type": "code",
      "metadata": {
        "colab": {
          "base_uri": "https://localhost:8080/"
        },
        "id": "BnVRndE5mFI2",
        "outputId": "7d15a00f-0a88-4a2b-9b4c-331eed73057f"
      },
      "source": [
        "!ls -l ./autompg_lr.pkl"
      ],
      "execution_count": 1,
      "outputs": [
        {
          "output_type": "stream",
          "text": [
            "-rw-r--r-- 1 root root 567 Jul  6 02:17 ./autompg_lr.pkl\n"
          ],
          "name": "stdout"
        }
      ]
    },
    {
      "cell_type": "markdown",
      "metadata": {
        "id": "l82XxY_knWJP"
      },
      "source": [
        "# load pickle with linear regression and scaler"
      ]
    },
    {
      "cell_type": "code",
      "metadata": {
        "colab": {
          "base_uri": "https://localhost:8080/"
        },
        "id": "cO27txg5m5T2",
        "outputId": "fc1d0bfd-49b2-4cf3-c4de-d71a6343418b"
      },
      "source": [
        "import pickle\n",
        "lr = pickle.load(open('./autompg_lr.pkl','rb'))\n",
        "type(lr)"
      ],
      "execution_count": 3,
      "outputs": [
        {
          "output_type": "execute_result",
          "data": {
            "text/plain": [
              "sklearn.linear_model._base.LinearRegression"
            ]
          },
          "metadata": {
            "tags": []
          },
          "execution_count": 3
        }
      ]
    },
    {
      "cell_type": "code",
      "metadata": {
        "colab": {
          "base_uri": "https://localhost:8080/"
        },
        "id": "0j4LFVTSnRxP",
        "outputId": "f2f2fa35-d554-4a03-bf8e-09936746e3ea"
      },
      "source": [
        "scaler = pickle.load(open('./autompg_standardscaler.pkl','rb'))\n",
        "type(scaler)"
      ],
      "execution_count": 16,
      "outputs": [
        {
          "output_type": "execute_result",
          "data": {
            "text/plain": [
              "sklearn.preprocessing._data.StandardScaler"
            ]
          },
          "metadata": {
            "tags": []
          },
          "execution_count": 16
        }
      ]
    },
    {
      "cell_type": "markdown",
      "metadata": {
        "id": "GOuqQ7vS_9pO"
      },
      "source": [
        "# Predict with Linear Regression"
      ]
    },
    {
      "cell_type": "code",
      "metadata": {
        "id": "yunrsmrpuL1c"
      },
      "source": [
        "displacement = 307.0\n",
        "horsepower = 130.0\n",
        "weight = 3504.0\n",
        "accle = 12.0\n",
        "x_custom = [[displacement,horsepower,weight,accle]]\n",
        "# [[307.0, 130.0, 3504.0, 12.0]]"
      ],
      "execution_count": 20,
      "outputs": []
    },
    {
      "cell_type": "code",
      "metadata": {
        "colab": {
          "base_uri": "https://localhost:8080/"
        },
        "id": "S6JgsCwnCCNe",
        "outputId": "db800446-07e1-4211-95f0-4f7afb0fc83e"
      },
      "source": [
        "x_custom = scaler.transform(x_custom)\n",
        "x_custom.shape"
      ],
      "execution_count": 21,
      "outputs": [
        {
          "output_type": "execute_result",
          "data": {
            "text/plain": [
              "(1, 4)"
            ]
          },
          "metadata": {
            "tags": []
          },
          "execution_count": 21
        }
      ]
    },
    {
      "cell_type": "code",
      "metadata": {
        "colab": {
          "base_uri": "https://localhost:8080/"
        },
        "id": "KmJML0ZU_5k1",
        "outputId": "bf786dda-4167-49dc-a66c-05c52308799d"
      },
      "source": [
        "result = lr.predict(x_custom)\n",
        "result"
      ],
      "execution_count": 22,
      "outputs": [
        {
          "output_type": "execute_result",
          "data": {
            "text/plain": [
              "array([18.99743588])"
            ]
          },
          "metadata": {
            "tags": []
          },
          "execution_count": 22
        }
      ]
    },
    {
      "cell_type": "code",
      "metadata": {
        "id": "L9XG11VyClm-"
      },
      "source": [
        ""
      ],
      "execution_count": null,
      "outputs": []
    }
  ]
}