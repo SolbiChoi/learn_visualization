{
  "nbformat": 4,
  "nbformat_minor": 0,
  "metadata": {
    "colab": {
      "name": "boston_linearregression_service.ipynb",
      "provenance": [],
      "toc_visible": true,
      "authorship_tag": "ABX9TyNMpNo9sJHFQuueKhRAWTil",
      "include_colab_link": true
    },
    "kernelspec": {
      "name": "python3",
      "display_name": "Python 3"
    },
    "language_info": {
      "name": "python"
    }
  },
  "cells": [
    {
      "cell_type": "markdown",
      "metadata": {
        "id": "view-in-github",
        "colab_type": "text"
      },
      "source": [
        "<a href=\"https://colab.research.google.com/github/SolbiChoi/learn_visualization/blob/master/boston_linearregression_service.ipynb\" target=\"_parent\"><img src=\"https://colab.research.google.com/assets/colab-badge.svg\" alt=\"Open In Colab\"/></a>"
      ]
    },
    {
      "cell_type": "markdown",
      "metadata": {
        "id": "6JWQ2HliV6OB"
      },
      "source": [
        "## load pickle with linear regression and scaler"
      ]
    },
    {
      "cell_type": "code",
      "metadata": {
        "id": "i-ct7QquVe3j"
      },
      "source": [
        "import pickle\n",
        "lr = pickle.load(open('./boston_lr (1).pkl','rb'))"
      ],
      "execution_count": 1,
      "outputs": []
    },
    {
      "cell_type": "code",
      "metadata": {
        "colab": {
          "base_uri": "https://localhost:8080/"
        },
        "id": "1Y9mgpKMWRWK",
        "outputId": "9657fb59-4d56-4f83-9ec5-0a78ce27d2fe"
      },
      "source": [
        "type(lr)"
      ],
      "execution_count": 2,
      "outputs": [
        {
          "output_type": "execute_result",
          "data": {
            "text/plain": [
              "sklearn.linear_model._base.LinearRegression"
            ]
          },
          "metadata": {
            "tags": []
          },
          "execution_count": 2
        }
      ]
    },
    {
      "cell_type": "code",
      "metadata": {
        "id": "HM-q2c0DWUL2"
      },
      "source": [
        "scaler = pickle.load(open('./boston_standardscaler (1).pkl','rb'))"
      ],
      "execution_count": 3,
      "outputs": []
    },
    {
      "cell_type": "code",
      "metadata": {
        "colab": {
          "base_uri": "https://localhost:8080/"
        },
        "id": "IKQPAhMtWkKk",
        "outputId": "da5e4d2c-ef0f-4cf8-d8b9-7162b53865db"
      },
      "source": [
        "type(scaler)"
      ],
      "execution_count": 4,
      "outputs": [
        {
          "output_type": "execute_result",
          "data": {
            "text/plain": [
              "sklearn.preprocessing._data.StandardScaler"
            ]
          },
          "metadata": {
            "tags": []
          },
          "execution_count": 4
        }
      ]
    },
    {
      "cell_type": "markdown",
      "metadata": {
        "id": "woWEgZcWWuim"
      },
      "source": [
        "## Predict with Linear Regression"
      ]
    },
    {
      "cell_type": "code",
      "metadata": {
        "id": "O3fyxxuwWlUz"
      },
      "source": [
        "crim = 0.00632\n",
        "indus = 2.31\n",
        "nox = 0.538\n",
        "rm = 6.575\n",
        "age = 65.2\n",
        "dis = 4.09\n",
        "ptratio = 15.3\n",
        "black = 396.9\n",
        "lstat = 4.98\n",
        "medv = 24.0\n",
        "zn =  18.0\n",
        "x_customer = [[crim, indus, nox, rm, age, dis, ptratio, black, lstat, medv, zn]]\n",
        "# [[0.00632, 2.31, 0.538, 6.575, 65.2, 4.09, 15.3, 396.9, 4.98, 24.0, 18.0]]"
      ],
      "execution_count": 5,
      "outputs": []
    },
    {
      "cell_type": "code",
      "metadata": {
        "id": "91n4UpRuXtlV"
      },
      "source": [
        "x_customer = scaler.transform(x_customer)"
      ],
      "execution_count": 6,
      "outputs": []
    },
    {
      "cell_type": "code",
      "metadata": {
        "colab": {
          "base_uri": "https://localhost:8080/"
        },
        "id": "BBMAGMXuXzWL",
        "outputId": "1775ac87-5691-41d0-9631-5bfcb7ce7ee5"
      },
      "source": [
        "x_customer.shape"
      ],
      "execution_count": 7,
      "outputs": [
        {
          "output_type": "execute_result",
          "data": {
            "text/plain": [
              "(1, 11)"
            ]
          },
          "metadata": {
            "tags": []
          },
          "execution_count": 7
        }
      ]
    },
    {
      "cell_type": "code",
      "metadata": {
        "colab": {
          "base_uri": "https://localhost:8080/"
        },
        "id": "q9L0KnOFX1T9",
        "outputId": "0766cd9b-f4b0-41a2-b707-c31fcdf0aa38"
      },
      "source": [
        "result = lr.predict(x_customer)\n",
        "result"
      ],
      "execution_count": 8,
      "outputs": [
        {
          "output_type": "execute_result",
          "data": {
            "text/plain": [
              "array([236.4921797])"
            ]
          },
          "metadata": {
            "tags": []
          },
          "execution_count": 8
        }
      ]
    },
    {
      "cell_type": "code",
      "metadata": {
        "id": "SOfZfE5VX584"
      },
      "source": [
        ""
      ],
      "execution_count": 8,
      "outputs": []
    }
  ]
}